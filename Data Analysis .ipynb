{
 "cells": [
  {
   "attachments": {},
   "cell_type": "markdown",
   "id": "6635c65c",
   "metadata": {},
   "source": [
    "### Import "
   ]
  },
  {
   "cell_type": "code",
   "execution_count": 37,
   "id": "6acf349e",
   "metadata": {},
   "outputs": [],
   "source": [
    "from matplotlib import pyplot as plt\n",
    "import pandas as pd\n",
    "import numpy as np"
   ]
  },
  {
   "attachments": {},
   "cell_type": "markdown",
   "id": "d1906e52",
   "metadata": {},
   "source": [
    "### Utility function"
   ]
  },
  {
   "cell_type": "code",
   "execution_count": 38,
   "id": "308a42d0",
   "metadata": {},
   "outputs": [],
   "source": [
    "def scatterplot(df, xcol, ycol, color=None, trans=None, title=None, \n",
    "                xlabel=None, ylabel=None, colbar=False, colticks=None, coltickslabels=None):\n",
    "    x = df[xcol]\n",
    "    y = df[ycol]\n",
    "    plt.scatter(x,y, c = color, alpha = trans)\n",
    "    plt.title(title)\n",
    "    plt.xlabel(xlabel)\n",
    "    plt.ylabel(ylabel)\n",
    "    if colbar:\n",
    "        cbar = plt.colorbar(ticks=colticks)\n",
    "        cbar.set_ticklabels(coltickslabels)\n",
    "    plt.show()"
   ]
  },
  {
   "cell_type": "code",
   "execution_count": 68,
   "id": "d1d04fe9",
   "metadata": {},
   "outputs": [
    {
     "data": {
      "text/html": [
       "<div>\n",
       "<style scoped>\n",
       "    .dataframe tbody tr th:only-of-type {\n",
       "        vertical-align: middle;\n",
       "    }\n",
       "\n",
       "    .dataframe tbody tr th {\n",
       "        vertical-align: top;\n",
       "    }\n",
       "\n",
       "    .dataframe thead th {\n",
       "        text-align: right;\n",
       "    }\n",
       "</style>\n",
       "<table border=\"1\" class=\"dataframe\">\n",
       "  <thead>\n",
       "    <tr style=\"text-align: right;\">\n",
       "      <th></th>\n",
       "      <th>Price</th>\n",
       "      <th>Age</th>\n",
       "      <th>KM</th>\n",
       "      <th>HP</th>\n",
       "      <th>Met_Color</th>\n",
       "      <th>Automatic</th>\n",
       "      <th>Doors</th>\n",
       "      <th>Weight</th>\n",
       "    </tr>\n",
       "  </thead>\n",
       "  <tbody>\n",
       "    <tr>\n",
       "      <th>0</th>\n",
       "      <td>13500</td>\n",
       "      <td>23</td>\n",
       "      <td>46986</td>\n",
       "      <td>90</td>\n",
       "      <td>1</td>\n",
       "      <td>0</td>\n",
       "      <td>3</td>\n",
       "      <td>1165</td>\n",
       "    </tr>\n",
       "    <tr>\n",
       "      <th>1</th>\n",
       "      <td>13750</td>\n",
       "      <td>23</td>\n",
       "      <td>72937</td>\n",
       "      <td>90</td>\n",
       "      <td>1</td>\n",
       "      <td>0</td>\n",
       "      <td>3</td>\n",
       "      <td>1165</td>\n",
       "    </tr>\n",
       "    <tr>\n",
       "      <th>2</th>\n",
       "      <td>13950</td>\n",
       "      <td>24</td>\n",
       "      <td>41711</td>\n",
       "      <td>90</td>\n",
       "      <td>1</td>\n",
       "      <td>0</td>\n",
       "      <td>3</td>\n",
       "      <td>1165</td>\n",
       "    </tr>\n",
       "    <tr>\n",
       "      <th>3</th>\n",
       "      <td>14950</td>\n",
       "      <td>26</td>\n",
       "      <td>48000</td>\n",
       "      <td>90</td>\n",
       "      <td>0</td>\n",
       "      <td>0</td>\n",
       "      <td>3</td>\n",
       "      <td>1165</td>\n",
       "    </tr>\n",
       "    <tr>\n",
       "      <th>4</th>\n",
       "      <td>13750</td>\n",
       "      <td>30</td>\n",
       "      <td>38500</td>\n",
       "      <td>90</td>\n",
       "      <td>0</td>\n",
       "      <td>0</td>\n",
       "      <td>3</td>\n",
       "      <td>1170</td>\n",
       "    </tr>\n",
       "    <tr>\n",
       "      <th>...</th>\n",
       "      <td>...</td>\n",
       "      <td>...</td>\n",
       "      <td>...</td>\n",
       "      <td>...</td>\n",
       "      <td>...</td>\n",
       "      <td>...</td>\n",
       "      <td>...</td>\n",
       "      <td>...</td>\n",
       "    </tr>\n",
       "    <tr>\n",
       "      <th>95</th>\n",
       "      <td>19950</td>\n",
       "      <td>17</td>\n",
       "      <td>30351</td>\n",
       "      <td>90</td>\n",
       "      <td>1</td>\n",
       "      <td>0</td>\n",
       "      <td>3</td>\n",
       "      <td>1260</td>\n",
       "    </tr>\n",
       "    <tr>\n",
       "      <th>96</th>\n",
       "      <td>15950</td>\n",
       "      <td>19</td>\n",
       "      <td>29435</td>\n",
       "      <td>97</td>\n",
       "      <td>1</td>\n",
       "      <td>0</td>\n",
       "      <td>3</td>\n",
       "      <td>1100</td>\n",
       "    </tr>\n",
       "    <tr>\n",
       "      <th>97</th>\n",
       "      <td>15950</td>\n",
       "      <td>19</td>\n",
       "      <td>25948</td>\n",
       "      <td>97</td>\n",
       "      <td>1</td>\n",
       "      <td>0</td>\n",
       "      <td>3</td>\n",
       "      <td>1100</td>\n",
       "    </tr>\n",
       "    <tr>\n",
       "      <th>98</th>\n",
       "      <td>18750</td>\n",
       "      <td>11</td>\n",
       "      <td>24500</td>\n",
       "      <td>110</td>\n",
       "      <td>1</td>\n",
       "      <td>0</td>\n",
       "      <td>3</td>\n",
       "      <td>1120</td>\n",
       "    </tr>\n",
       "    <tr>\n",
       "      <th>99</th>\n",
       "      <td>17450</td>\n",
       "      <td>18</td>\n",
       "      <td>23902</td>\n",
       "      <td>97</td>\n",
       "      <td>1</td>\n",
       "      <td>0</td>\n",
       "      <td>3</td>\n",
       "      <td>1100</td>\n",
       "    </tr>\n",
       "  </tbody>\n",
       "</table>\n",
       "<p>100 rows × 8 columns</p>\n",
       "</div>"
      ],
      "text/plain": [
       "    Price  Age     KM   HP  Met_Color  Automatic  Doors  Weight\n",
       "0   13500   23  46986   90          1          0      3    1165\n",
       "1   13750   23  72937   90          1          0      3    1165\n",
       "2   13950   24  41711   90          1          0      3    1165\n",
       "3   14950   26  48000   90          0          0      3    1165\n",
       "4   13750   30  38500   90          0          0      3    1170\n",
       "..    ...  ...    ...  ...        ...        ...    ...     ...\n",
       "95  19950   17  30351   90          1          0      3    1260\n",
       "96  15950   19  29435   97          1          0      3    1100\n",
       "97  15950   19  25948   97          1          0      3    1100\n",
       "98  18750   11  24500  110          1          0      3    1120\n",
       "99  17450   18  23902   97          1          0      3    1100\n",
       "\n",
       "[100 rows x 8 columns]"
      ]
     },
     "execution_count": 68,
     "metadata": {},
     "output_type": "execute_result"
    }
   ],
   "source": [
    "car = pd.read_csv('ToyotaCorolla.csv')\n",
    "car.head(100)"
   ]
  },
  {
   "attachments": {},
   "cell_type": "markdown",
   "id": "86927fb6",
   "metadata": {},
   "source": [
    "###In regression analysis, why should the data be partitioned into training and validation sets? What will the training set be used for? What will the validation set be used for?\n",
    "\n",
    "The data set is partitioned into training and validation sets to prevent the overfit to the training data set, therefore the validation set is used to check the accuracy of the model created by using training data set."
   ]
  },
  {
   "cell_type": "code",
   "execution_count": 69,
   "id": "28ff1548",
   "metadata": {
    "scrolled": true
   },
   "outputs": [
    {
     "data": {
      "image/png": "[encoded data removed]",
      "text/plain": [
       "<Figure size 432x288 with 1 Axes>"
      ]
     },
     "metadata": {
      "needs_background": "light"
     },
     "output_type": "display_data"
    }
   ],
   "source": [
    "#Explore the relationship between Price and each of the two continuous\n",
    "#predictors by constructing two scatter plots, Price against Age, and Price against\n",
    "#KM. Price will be on the y-axis in both figures. Be sure to include appropriate labels.\n",
    "\n",
    "scatterplot(car,'Age','Price', title='Relationship between Age and Price', \n",
    "            xlabel='Age in months as of August 2004', \n",
    "            ylabel='Offer price in Euros')\n",
    "\n"
   ]
  },
  {
   "cell_type": "code",
   "execution_count": 70,
   "id": "1a284795",
   "metadata": {},
   "outputs": [
    {
     "data": {
      "image/png": "[encoded data removed]",
      "text/plain": [
       "<Figure size 432x288 with 1 Axes>"
      ]
     },
     "metadata": {
      "needs_background": "light"
     },
     "output_type": "display_data"
    }
   ],
   "source": [
    "scatterplot(car,'KM','Price', title='Relationship between KM and Price', \n",
    "            xlabel='Accumulated kilometers on odometer', \n",
    "            ylabel='Offer price in Euros')"
   ]
  },
  {
   "cell_type": "markdown",
   "id": "4bed768a",
   "metadata": {},
   "source": [
    "Reason: According to me age is the better predictor of offer price as from the graph one we can easily identify that price is inversely proportional to age. "
   ]
  },
  {
   "cell_type": "code",
   "execution_count": 72,
   "id": "24230a26",
   "metadata": {},
   "outputs": [],
   "source": [
    "#We will use both Age and KM as the predictors to predict the price of the used\n",
    "#cars. Partition the dataset into 80% training and 20% validation. Set the random\n",
    "#seed to be 77. Run a multiple linear regression on the training set and write\n",
    "#down the fitted predictive linear equation (the precision should be set to 4).\n",
    "\n",
    "select_index = ['Age', 'KM']\n",
    "car_X = car.loc[:, select_index]\n",
    "# Target\n",
    "car_y = car.iloc[:,0]"
   ]
  },
  {
   "cell_type": "code",
   "execution_count": 73,
   "id": "f887735e",
   "metadata": {},
   "outputs": [],
   "source": [
    "from sklearn.model_selection import train_test_split\n",
    "X_train, X_valid, y_train, y_valid = \\\n",
    "train_test_split(car_X, car_y, test_size=0.2, random_state=77)"
   ]
  },
  {
   "cell_type": "code",
   "execution_count": 75,
   "id": "54c32b75",
   "metadata": {},
   "outputs": [],
   "source": [
    "from sklearn.linear_model import LinearRegression\n",
    "model = LinearRegression()"
   ]
  },
  {
   "cell_type": "code",
   "execution_count": 76,
   "id": "679f4d7c",
   "metadata": {},
   "outputs": [
    {
     "name": "stdout",
     "output_type": "stream",
     "text": [
      "[-154.6958   -0.0154]\n",
      "20440.3509\n"
     ]
    }
   ],
   "source": [
    "model.fit(X_train, y_train)\n",
    "np.set_printoptions(precision=4, suppress=True) # set precision for numpy arrays\n",
    "print(model.coef_)\n",
    "print('%.4f' % model.intercept_ )"
   ]
  },
  {
   "attachments": {},
   "cell_type": "markdown",
   "id": "597df41b",
   "metadata": {},
   "source": [
    "###Let’s write down the fitted predictive equation:\n",
    "\n",
    "Price = 20440.3509 -154.6958 × Age -0.0154 × KM\n",
    "\n",
    "Price = 20440.3509 -154.6958 × (48) -0.0154 × (41636)\n",
    "\n",
    "Price = 12372.2738 in Euro"
   ]
  },
  {
   "cell_type": "code",
   "execution_count": 77,
   "id": "0dafa2ae",
   "metadata": {},
   "outputs": [
    {
     "name": "stdout",
     "output_type": "stream",
     "text": [
      "[12372.2738]\n"
     ]
    },
    {
     "name": "stderr",
     "output_type": "stream",
     "text": [
      "/Users/Geeta/anaconda3/lib/python3.9/site-packages/sklearn/base.py:450: UserWarning: X does not have valid feature names, but LinearRegression was fitted with feature names\n",
      "  warnings.warn(\n"
     ]
    }
   ],
   "source": [
    "y_pred = model.predict(X_valid)\n",
    "y_new_pred = model.predict([ [48, 41636] ])\n",
    "print(y_new_pred)"
   ]
  },
  {
   "cell_type": "code",
   "execution_count": 79,
   "id": "7e0d6ca2",
   "metadata": {},
   "outputs": [
    {
     "name": "stdout",
     "output_type": "stream",
     "text": [
      "1188.577016600191\n"
     ]
    }
   ],
   "source": [
    "#What is the mean absolute error on the validation set?\n",
    "\n",
    "e = y_valid - y_pred\n",
    "# compute rmse\n",
    "mae = np.mean(np.abs(e))\n",
    "print( mae)\n",
    "\n",
    "## 1188.577016600191 is the mean absolute error on the validation set"
   ]
  },
  {
   "cell_type": "code",
   "execution_count": 80,
   "id": "a408e60f",
   "metadata": {},
   "outputs": [
    {
     "name": "stdout",
     "output_type": "stream",
     "text": [
      "1180.9359879662018\n"
     ]
    }
   ],
   "source": [
    "#What is the mean absolute error on the training set?\n",
    "\n",
    "y_pred_train = model.predict(X_train)\n",
    "e = y_train - y_pred_train\n",
    "# compute rmse\n",
    "mae_train = np.mean( np.abs(e) )\n",
    "print(mae_train)\n",
    "\n",
    "## 1180.9359879662018 is the mean absolute error on the validation set"
   ]
  },
  {
   "cell_type": "code",
   "execution_count": 147,
   "id": "e00be287",
   "metadata": {},
   "outputs": [
    {
     "data": {
      "text/html": [
       "<div>\n",
       "<style scoped>\n",
       "    .dataframe tbody tr th:only-of-type {\n",
       "        vertical-align: middle;\n",
       "    }\n",
       "\n",
       "    .dataframe tbody tr th {\n",
       "        vertical-align: top;\n",
       "    }\n",
       "\n",
       "    .dataframe thead th {\n",
       "        text-align: right;\n",
       "    }\n",
       "</style>\n",
       "<table border=\"1\" class=\"dataframe\">\n",
       "  <thead>\n",
       "    <tr style=\"text-align: right;\">\n",
       "      <th></th>\n",
       "      <th>COUPON</th>\n",
       "      <th>NEW</th>\n",
       "      <th>SW</th>\n",
       "      <th>HI</th>\n",
       "      <th>S_INCOME</th>\n",
       "      <th>E_INCOME</th>\n",
       "      <th>S_POP</th>\n",
       "      <th>E_POP</th>\n",
       "      <th>DISTANCE</th>\n",
       "      <th>PAX</th>\n",
       "      <th>FARE</th>\n",
       "    </tr>\n",
       "  </thead>\n",
       "  <tbody>\n",
       "    <tr>\n",
       "      <th>0</th>\n",
       "      <td>1.00</td>\n",
       "      <td>3</td>\n",
       "      <td>1</td>\n",
       "      <td>5291.99</td>\n",
       "      <td>28637</td>\n",
       "      <td>21112</td>\n",
       "      <td>3036732</td>\n",
       "      <td>205711</td>\n",
       "      <td>312</td>\n",
       "      <td>7864</td>\n",
       "      <td>64.11</td>\n",
       "    </tr>\n",
       "    <tr>\n",
       "      <th>1</th>\n",
       "      <td>1.06</td>\n",
       "      <td>3</td>\n",
       "      <td>0</td>\n",
       "      <td>5419.16</td>\n",
       "      <td>26993</td>\n",
       "      <td>29838</td>\n",
       "      <td>3532657</td>\n",
       "      <td>7145897</td>\n",
       "      <td>576</td>\n",
       "      <td>8820</td>\n",
       "      <td>174.47</td>\n",
       "    </tr>\n",
       "    <tr>\n",
       "      <th>2</th>\n",
       "      <td>1.06</td>\n",
       "      <td>3</td>\n",
       "      <td>0</td>\n",
       "      <td>9185.28</td>\n",
       "      <td>30124</td>\n",
       "      <td>29838</td>\n",
       "      <td>5787293</td>\n",
       "      <td>7145897</td>\n",
       "      <td>364</td>\n",
       "      <td>6452</td>\n",
       "      <td>207.76</td>\n",
       "    </tr>\n",
       "    <tr>\n",
       "      <th>3</th>\n",
       "      <td>1.06</td>\n",
       "      <td>3</td>\n",
       "      <td>1</td>\n",
       "      <td>2657.35</td>\n",
       "      <td>29260</td>\n",
       "      <td>29838</td>\n",
       "      <td>7830332</td>\n",
       "      <td>7145897</td>\n",
       "      <td>612</td>\n",
       "      <td>25144</td>\n",
       "      <td>85.47</td>\n",
       "    </tr>\n",
       "    <tr>\n",
       "      <th>4</th>\n",
       "      <td>1.06</td>\n",
       "      <td>3</td>\n",
       "      <td>1</td>\n",
       "      <td>2657.35</td>\n",
       "      <td>29260</td>\n",
       "      <td>29838</td>\n",
       "      <td>7830332</td>\n",
       "      <td>7145897</td>\n",
       "      <td>612</td>\n",
       "      <td>25144</td>\n",
       "      <td>85.47</td>\n",
       "    </tr>\n",
       "    <tr>\n",
       "      <th>...</th>\n",
       "      <td>...</td>\n",
       "      <td>...</td>\n",
       "      <td>...</td>\n",
       "      <td>...</td>\n",
       "      <td>...</td>\n",
       "      <td>...</td>\n",
       "      <td>...</td>\n",
       "      <td>...</td>\n",
       "      <td>...</td>\n",
       "      <td>...</td>\n",
       "      <td>...</td>\n",
       "    </tr>\n",
       "    <tr>\n",
       "      <th>95</th>\n",
       "      <td>1.20</td>\n",
       "      <td>3</td>\n",
       "      <td>0</td>\n",
       "      <td>3247.31</td>\n",
       "      <td>29260</td>\n",
       "      <td>26752</td>\n",
       "      <td>7830332</td>\n",
       "      <td>379566</td>\n",
       "      <td>1108</td>\n",
       "      <td>7196</td>\n",
       "      <td>136.68</td>\n",
       "    </tr>\n",
       "    <tr>\n",
       "      <th>96</th>\n",
       "      <td>1.13</td>\n",
       "      <td>3</td>\n",
       "      <td>0</td>\n",
       "      <td>4516.90</td>\n",
       "      <td>26506</td>\n",
       "      <td>26752</td>\n",
       "      <td>4459144</td>\n",
       "      <td>379566</td>\n",
       "      <td>1088</td>\n",
       "      <td>7049</td>\n",
       "      <td>108.15</td>\n",
       "    </tr>\n",
       "    <tr>\n",
       "      <th>97</th>\n",
       "      <td>1.07</td>\n",
       "      <td>3</td>\n",
       "      <td>0</td>\n",
       "      <td>4840.48</td>\n",
       "      <td>32991</td>\n",
       "      <td>24348</td>\n",
       "      <td>8621121</td>\n",
       "      <td>111745</td>\n",
       "      <td>457</td>\n",
       "      <td>7574</td>\n",
       "      <td>180.85</td>\n",
       "    </tr>\n",
       "    <tr>\n",
       "      <th>98</th>\n",
       "      <td>1.07</td>\n",
       "      <td>3</td>\n",
       "      <td>0</td>\n",
       "      <td>4840.48</td>\n",
       "      <td>32991</td>\n",
       "      <td>24348</td>\n",
       "      <td>8621121</td>\n",
       "      <td>111745</td>\n",
       "      <td>457</td>\n",
       "      <td>7574</td>\n",
       "      <td>180.85</td>\n",
       "    </tr>\n",
       "    <tr>\n",
       "      <th>99</th>\n",
       "      <td>1.07</td>\n",
       "      <td>3</td>\n",
       "      <td>0</td>\n",
       "      <td>4840.48</td>\n",
       "      <td>32991</td>\n",
       "      <td>24348</td>\n",
       "      <td>8621121</td>\n",
       "      <td>111745</td>\n",
       "      <td>457</td>\n",
       "      <td>7574</td>\n",
       "      <td>180.85</td>\n",
       "    </tr>\n",
       "  </tbody>\n",
       "</table>\n",
       "<p>100 rows × 11 columns</p>\n",
       "</div>"
      ],
      "text/plain": [
       "    COUPON  NEW  SW       HI  S_INCOME  E_INCOME    S_POP    E_POP  DISTANCE  \\\n",
       "0     1.00    3   1  5291.99     28637     21112  3036732   205711       312   \n",
       "1     1.06    3   0  5419.16     26993     29838  3532657  7145897       576   \n",
       "2     1.06    3   0  9185.28     30124     29838  5787293  7145897       364   \n",
       "3     1.06    3   1  2657.35     29260     29838  7830332  7145897       612   \n",
       "4     1.06    3   1  2657.35     29260     29838  7830332  7145897       612   \n",
       "..     ...  ...  ..      ...       ...       ...      ...      ...       ...   \n",
       "95    1.20    3   0  3247.31     29260     26752  7830332   379566      1108   \n",
       "96    1.13    3   0  4516.90     26506     26752  4459144   379566      1088   \n",
       "97    1.07    3   0  4840.48     32991     24348  8621121   111745       457   \n",
       "98    1.07    3   0  4840.48     32991     24348  8621121   111745       457   \n",
       "99    1.07    3   0  4840.48     32991     24348  8621121   111745       457   \n",
       "\n",
       "      PAX    FARE  \n",
       "0    7864   64.11  \n",
       "1    8820  174.47  \n",
       "2    6452  207.76  \n",
       "3   25144   85.47  \n",
       "4   25144   85.47  \n",
       "..    ...     ...  \n",
       "95   7196  136.68  \n",
       "96   7049  108.15  \n",
       "97   7574  180.85  \n",
       "98   7574  180.85  \n",
       "99   7574  180.85  \n",
       "\n",
       "[100 rows x 11 columns]"
      ]
     },
     "execution_count": 147,
     "metadata": {},
     "output_type": "execute_result"
    }
   ],
   "source": [
    "plane = pd.read_csv(\"Airfares.csv\")\n",
    "plane.head(100)"
   ]
  },
  {
   "cell_type": "code",
   "execution_count": 148,
   "id": "0e6a336f",
   "metadata": {},
   "outputs": [],
   "source": [
    "##Find a model for predicting the average fare on a new route. Partition the data\n",
    "#into 70% training and 30% validation with a seed of 22. Use the training set to\n",
    "#run a multiple linear regression for FARE vs. all other predictors. What are your\n",
    "#fitted coefficient values for NEW and PAX, respectively?\n",
    "\n",
    "\n",
    "plane_X = plane[:-2]\n",
    "# Target\n",
    "plane_y = plane.iloc[:,-1]"
   ]
  },
  {
   "cell_type": "code",
   "execution_count": 149,
   "id": "94c17026",
   "metadata": {},
   "outputs": [
    {
     "data": {
      "text/html": [
       "<div>\n",
       "<style scoped>\n",
       "    .dataframe tbody tr th:only-of-type {\n",
       "        vertical-align: middle;\n",
       "    }\n",
       "\n",
       "    .dataframe tbody tr th {\n",
       "        vertical-align: top;\n",
       "    }\n",
       "\n",
       "    .dataframe thead th {\n",
       "        text-align: right;\n",
       "    }\n",
       "</style>\n",
       "<table border=\"1\" class=\"dataframe\">\n",
       "  <thead>\n",
       "    <tr style=\"text-align: right;\">\n",
       "      <th></th>\n",
       "      <th>COUPON</th>\n",
       "      <th>NEW</th>\n",
       "      <th>SW</th>\n",
       "      <th>HI</th>\n",
       "      <th>S_INCOME</th>\n",
       "      <th>E_INCOME</th>\n",
       "      <th>S_POP</th>\n",
       "      <th>E_POP</th>\n",
       "      <th>DISTANCE</th>\n",
       "      <th>PAX</th>\n",
       "      <th>FARE</th>\n",
       "    </tr>\n",
       "  </thead>\n",
       "  <tbody>\n",
       "    <tr>\n",
       "      <th>0</th>\n",
       "      <td>1.00</td>\n",
       "      <td>3</td>\n",
       "      <td>1</td>\n",
       "      <td>5291.99</td>\n",
       "      <td>28637</td>\n",
       "      <td>21112</td>\n",
       "      <td>3036732</td>\n",
       "      <td>205711</td>\n",
       "      <td>312</td>\n",
       "      <td>7864</td>\n",
       "      <td>64.11</td>\n",
       "    </tr>\n",
       "    <tr>\n",
       "      <th>1</th>\n",
       "      <td>1.06</td>\n",
       "      <td>3</td>\n",
       "      <td>0</td>\n",
       "      <td>5419.16</td>\n",
       "      <td>26993</td>\n",
       "      <td>29838</td>\n",
       "      <td>3532657</td>\n",
       "      <td>7145897</td>\n",
       "      <td>576</td>\n",
       "      <td>8820</td>\n",
       "      <td>174.47</td>\n",
       "    </tr>\n",
       "    <tr>\n",
       "      <th>2</th>\n",
       "      <td>1.06</td>\n",
       "      <td>3</td>\n",
       "      <td>0</td>\n",
       "      <td>9185.28</td>\n",
       "      <td>30124</td>\n",
       "      <td>29838</td>\n",
       "      <td>5787293</td>\n",
       "      <td>7145897</td>\n",
       "      <td>364</td>\n",
       "      <td>6452</td>\n",
       "      <td>207.76</td>\n",
       "    </tr>\n",
       "    <tr>\n",
       "      <th>3</th>\n",
       "      <td>1.06</td>\n",
       "      <td>3</td>\n",
       "      <td>1</td>\n",
       "      <td>2657.35</td>\n",
       "      <td>29260</td>\n",
       "      <td>29838</td>\n",
       "      <td>7830332</td>\n",
       "      <td>7145897</td>\n",
       "      <td>612</td>\n",
       "      <td>25144</td>\n",
       "      <td>85.47</td>\n",
       "    </tr>\n",
       "    <tr>\n",
       "      <th>4</th>\n",
       "      <td>1.06</td>\n",
       "      <td>3</td>\n",
       "      <td>1</td>\n",
       "      <td>2657.35</td>\n",
       "      <td>29260</td>\n",
       "      <td>29838</td>\n",
       "      <td>7830332</td>\n",
       "      <td>7145897</td>\n",
       "      <td>612</td>\n",
       "      <td>25144</td>\n",
       "      <td>85.47</td>\n",
       "    </tr>\n",
       "    <tr>\n",
       "      <th>...</th>\n",
       "      <td>...</td>\n",
       "      <td>...</td>\n",
       "      <td>...</td>\n",
       "      <td>...</td>\n",
       "      <td>...</td>\n",
       "      <td>...</td>\n",
       "      <td>...</td>\n",
       "      <td>...</td>\n",
       "      <td>...</td>\n",
       "      <td>...</td>\n",
       "      <td>...</td>\n",
       "    </tr>\n",
       "    <tr>\n",
       "      <th>631</th>\n",
       "      <td>1.36</td>\n",
       "      <td>3</td>\n",
       "      <td>0</td>\n",
       "      <td>3951.55</td>\n",
       "      <td>30268</td>\n",
       "      <td>37375</td>\n",
       "      <td>1106780</td>\n",
       "      <td>991717</td>\n",
       "      <td>1125</td>\n",
       "      <td>5243</td>\n",
       "      <td>130.15</td>\n",
       "    </tr>\n",
       "    <tr>\n",
       "      <th>632</th>\n",
       "      <td>1.08</td>\n",
       "      <td>3</td>\n",
       "      <td>0</td>\n",
       "      <td>2216.70</td>\n",
       "      <td>32991</td>\n",
       "      <td>37375</td>\n",
       "      <td>8621121</td>\n",
       "      <td>991717</td>\n",
       "      <td>1030</td>\n",
       "      <td>34324</td>\n",
       "      <td>129.63</td>\n",
       "    </tr>\n",
       "    <tr>\n",
       "      <th>633</th>\n",
       "      <td>1.08</td>\n",
       "      <td>3</td>\n",
       "      <td>0</td>\n",
       "      <td>2216.70</td>\n",
       "      <td>32991</td>\n",
       "      <td>37375</td>\n",
       "      <td>8621121</td>\n",
       "      <td>991717</td>\n",
       "      <td>1030</td>\n",
       "      <td>34324</td>\n",
       "      <td>129.63</td>\n",
       "    </tr>\n",
       "    <tr>\n",
       "      <th>634</th>\n",
       "      <td>1.08</td>\n",
       "      <td>0</td>\n",
       "      <td>0</td>\n",
       "      <td>2216.70</td>\n",
       "      <td>32991</td>\n",
       "      <td>37375</td>\n",
       "      <td>8621121</td>\n",
       "      <td>991717</td>\n",
       "      <td>1030</td>\n",
       "      <td>34324</td>\n",
       "      <td>129.63</td>\n",
       "    </tr>\n",
       "    <tr>\n",
       "      <th>635</th>\n",
       "      <td>1.17</td>\n",
       "      <td>3</td>\n",
       "      <td>0</td>\n",
       "      <td>6797.80</td>\n",
       "      <td>27994</td>\n",
       "      <td>37375</td>\n",
       "      <td>4948339</td>\n",
       "      <td>991717</td>\n",
       "      <td>960</td>\n",
       "      <td>6016</td>\n",
       "      <td>124.87</td>\n",
       "    </tr>\n",
       "  </tbody>\n",
       "</table>\n",
       "<p>636 rows × 11 columns</p>\n",
       "</div>"
      ],
      "text/plain": [
       "     COUPON  NEW  SW       HI  S_INCOME  E_INCOME    S_POP    E_POP  DISTANCE  \\\n",
       "0      1.00    3   1  5291.99     28637     21112  3036732   205711       312   \n",
       "1      1.06    3   0  5419.16     26993     29838  3532657  7145897       576   \n",
       "2      1.06    3   0  9185.28     30124     29838  5787293  7145897       364   \n",
       "3      1.06    3   1  2657.35     29260     29838  7830332  7145897       612   \n",
       "4      1.06    3   1  2657.35     29260     29838  7830332  7145897       612   \n",
       "..      ...  ...  ..      ...       ...       ...      ...      ...       ...   \n",
       "631    1.36    3   0  3951.55     30268     37375  1106780   991717      1125   \n",
       "632    1.08    3   0  2216.70     32991     37375  8621121   991717      1030   \n",
       "633    1.08    3   0  2216.70     32991     37375  8621121   991717      1030   \n",
       "634    1.08    0   0  2216.70     32991     37375  8621121   991717      1030   \n",
       "635    1.17    3   0  6797.80     27994     37375  4948339   991717       960   \n",
       "\n",
       "       PAX    FARE  \n",
       "0     7864   64.11  \n",
       "1     8820  174.47  \n",
       "2     6452  207.76  \n",
       "3    25144   85.47  \n",
       "4    25144   85.47  \n",
       "..     ...     ...  \n",
       "631   5243  130.15  \n",
       "632  34324  129.63  \n",
       "633  34324  129.63  \n",
       "634  34324  129.63  \n",
       "635   6016  124.87  \n",
       "\n",
       "[636 rows x 11 columns]"
      ]
     },
     "execution_count": 149,
     "metadata": {},
     "output_type": "execute_result"
    }
   ],
   "source": [
    "plane_X"
   ]
  },
  {
   "cell_type": "code",
   "execution_count": 150,
   "id": "471dd226",
   "metadata": {},
   "outputs": [],
   "source": [
    "select_index = ['COUPON', 'NEW','SW','HI','S_INCOME', 'E_INCOME', 'S_POP','E_POP','DISTANCE','PAX']\n",
    "plane_X = plane.loc[:, select_index]\n",
    "# Target\n",
    "plane_y = plane.iloc[:,-1]"
   ]
  },
  {
   "cell_type": "code",
   "execution_count": 151,
   "id": "ee528baa",
   "metadata": {},
   "outputs": [],
   "source": [
    "from sklearn.model_selection import train_test_split\n",
    "X_train, X_valid, y_train, y_valid = \\\n",
    "train_test_split(plane_X, plane_y, test_size=0.3, random_state=22)"
   ]
  },
  {
   "cell_type": "code",
   "execution_count": 152,
   "id": "003be943",
   "metadata": {},
   "outputs": [],
   "source": [
    "from sklearn.linear_model import LinearRegression\n",
    "model = LinearRegression()"
   ]
  },
  {
   "cell_type": "code",
   "execution_count": 153,
   "id": "fc826ad0",
   "metadata": {},
   "outputs": [
    {
     "name": "stdout",
     "output_type": "stream",
     "text": [
      "[  9.3088  -0.6511 -42.9638   0.0085   0.0026   0.0023   0.       0.\n",
      "   0.0663  -0.0012]\n",
      "-113.5858\n"
     ]
    }
   ],
   "source": [
    "model.fit(X_train, y_train)\n",
    "# Print out the fitted coefficients\n",
    "np.set_printoptions(precision=4, suppress=True) # set precision for numpy arrays\n",
    "print(model.coef_)\n",
    "print('%.4f' % model.intercept_ ) # set precision for floating points"
   ]
  },
  {
   "cell_type": "markdown",
   "id": "aad40aec",
   "metadata": {},
   "source": [
    "-0.6511, and -0.0012 are the fitted coefficient values for NEW and PAX, respectively.\n"
   ]
  },
  {
   "cell_type": "code",
   "execution_count": 154,
   "id": "b05e67e7",
   "metadata": {},
   "outputs": [
    {
     "name": "stdout",
     "output_type": "stream",
     "text": [
      "[103.1196]\n"
     ]
    },
    {
     "name": "stderr",
     "output_type": "stream",
     "text": [
      "/Users/Geeta/anaconda3/lib/python3.9/site-packages/sklearn/base.py:450: UserWarning: X does not have valid feature names, but LinearRegression was fitted with feature names\n",
      "  warnings.warn(\n"
     ]
    }
   ],
   "source": [
    "#Predict the average fare on a route with the following characteristics:\n",
    "#COUPON=1.202. NEW=3. SW= 0, HI = 4442.141, S INCOME =\n",
    "#28.760. E INCOME = 27.664, S POP = 4,557,004, E POP =\n",
    "#3,195,503, PAX = 12782, DISTANCE = 1976.\n",
    "\n",
    "y_pred = model.predict(X_valid)\n",
    "# make prediction for a new house with\n",
    "\n",
    "y_new_pred = model.predict([ [1.202, 3, 0, 4442.141,28.760,27.664,4557004,3195503, 1976, 12782 ] ])\n",
    "print(y_new_pred)"
   ]
  },
  {
   "cell_type": "code",
   "execution_count": 155,
   "id": "668b2bed",
   "metadata": {},
   "outputs": [
    {
     "data": {
      "text/plain": [
       "42.963800000000006"
      ]
     },
     "execution_count": 155,
     "metadata": {},
     "output_type": "execute_result"
    }
   ],
   "source": [
    "103.1196 - 60.1558"
   ]
  },
  {
   "attachments": {},
   "cell_type": "markdown",
   "id": "3c14ca20",
   "metadata": {},
   "source": [
    "###The average fare on a given route is predicted to be 103.1196"
   ]
  },
  {
   "cell_type": "code",
   "execution_count": 156,
   "id": "999b951f",
   "metadata": {},
   "outputs": [
    {
     "name": "stdout",
     "output_type": "stream",
     "text": [
      "[60.1558]\n"
     ]
    },
    {
     "name": "stderr",
     "output_type": "stream",
     "text": [
      "/Users/Geeta/anaconda3/lib/python3.9/site-packages/sklearn/base.py:450: UserWarning: X does not have valid feature names, but LinearRegression was fitted with feature names\n",
      "  warnings.warn(\n"
     ]
    }
   ],
   "source": [
    "#Predict the reduction in average fare on the route in (2) if Southwest decides to\n",
    "#cover this route using your fitted model.\n",
    "\n",
    "w_new_pred = model.predict([ [1.202, 3, 1, 4442.141,28.760,27.664,4557004,3195503, 1976, 12782 ] ])\n",
    "print(w_new_pred)"
   ]
  },
  {
   "cell_type": "code",
   "execution_count": 157,
   "id": "a094f810",
   "metadata": {},
   "outputs": [
    {
     "data": {
      "text/plain": [
       "42.963793537828906"
      ]
     },
     "execution_count": 157,
     "metadata": {},
     "output_type": "execute_result"
    }
   ],
   "source": [
    "y_new_pred[0] - w_new_pred[0]"
   ]
  },
  {
   "cell_type": "markdown",
   "id": "4f3660fa",
   "metadata": {},
   "source": [
    "The new average fare if the southwest airlines decides to cover this route will be 60.1558 units. \n",
    "Therefore, the reduction in the fare is 42.963793537828906"
   ]
  },
  {
   "cell_type": "code",
   "execution_count": null,
   "id": "9131cff7",
   "metadata": {},
   "outputs": [],
   "source": [
    "#We would like to evaluate the predictive power of our model. Create a scatter\n",
    "#plot the show the relationship between the actual target values of the validation\n",
    "#data and their predicted values. Set the ×-label to \"Predicted values\" and y-label\n",
    "#to \"Actual values\". Can you comment on the performance of this linear\n",
    "#regression model based on this scatter plot?\n",
    "\n"
   ]
  },
  {
   "cell_type": "code",
   "execution_count": 158,
   "id": "cbcd16af",
   "metadata": {},
   "outputs": [
    {
     "data": {
      "text/plain": [
       "Text(0, 0.5, 'Actual values of the fare')"
      ]
     },
     "execution_count": 158,
     "metadata": {},
     "output_type": "execute_result"
    },
    {
     "data": {
      "image/png": "[encoded data removed]",
      "text/plain": [
       "<Figure size 432x288 with 1 Axes>"
      ]
     },
     "metadata": {
      "needs_background": "light"
     },
     "output_type": "display_data"
    }
   ],
   "source": [
    "\n",
    "y_pred = model.predict(X_valid)\n",
    "plt.scatter(y_pred, y_valid)\n",
    "plt.title('Actual target values of the validation Vs Predicted value')\n",
    "plt.xlabel('Predicted values of the fare')\n",
    "plt.ylabel('Actual values of the fare')\n"
   ]
  },
  {
   "cell_type": "markdown",
   "id": "a2076025",
   "metadata": {},
   "source": [
    "According to the graph, we can see most of the predicted fare is far from the actual fare value. \n",
    "So, the overall accuracy of the model is not very good. "
   ]
  },
  {
   "cell_type": "code",
   "execution_count": 159,
   "id": "2e13cbf0",
   "metadata": {},
   "outputs": [],
   "source": [
    "#Create a histogram of the model residuals/errors of the validation set. Set the\n",
    "#number of bins to 20. Set appropriate labels.\n",
    "\n",
    "error = y_valid - y_pred"
   ]
  },
  {
   "cell_type": "code",
   "execution_count": 129,
   "id": "45c13c64",
   "metadata": {},
   "outputs": [
    {
     "data": {
      "text/plain": [
       "Text(0, 0.5, 'Number of route')"
      ]
     },
     "execution_count": 129,
     "metadata": {},
     "output_type": "execute_result"
    },
    {
     "data": {
      "image/png": "[encoded data removed]",
      "text/plain": [
       "<Figure size 432x288 with 1 Axes>"
      ]
     },
     "metadata": {
      "needs_background": "light"
     },
     "output_type": "display_data"
    }
   ],
   "source": [
    "num_bin = 20\n",
    "plt.hist(error, num_bin)\n",
    "plt.title('Error distribution')\n",
    "plt.xlabel('Error in the predicted value of the airfare')\n",
    "plt.ylabel('Number of routes')\n",
    "\n"
   ]
  },
  {
   "attachments": {},
   "cell_type": "markdown",
   "id": "2b1261b6",
   "metadata": {},
   "source": [
    "###There are good reasons to pay close attention to the variables that are included in a model. In reality, which factors will not be available for predicting the average fare from a new airport (i.e., before flights start operating on those routes)?\n",
    "\n",
    "Coupon, new, HI, PAX factors will not be available for predicting \n",
    "the average fare from a new airport as these are not known before actually starting the airport."
   ]
  },
  {
   "cell_type": "code",
   "execution_count": 160,
   "id": "825fd098",
   "metadata": {},
   "outputs": [],
   "source": [
    "#Briefly state your analytics plan to determine whether a model using only the\n",
    "#factors that are available before flights begin to operate on the new route is\n",
    "#good enough, or whether it is worthwhile re-building the model once flights\n",
    "#begin on the new route\n",
    "\n",
    "select_index_1 = ['S_INCOME', 'E_INCOME', 'S_POP','E_POP','DISTANCE']\n",
    "wf_X_train = X_train.loc[:, select_index_1]\n",
    "wf_X_valid = X_valid.loc[:, select_index_1]"
   ]
  },
  {
   "cell_type": "code",
   "execution_count": 161,
   "id": "ce6fd9da",
   "metadata": {},
   "outputs": [],
   "source": [
    "from sklearn.linear_model import LinearRegression\n",
    "wf_model = LinearRegression()"
   ]
  },
  {
   "cell_type": "code",
   "execution_count": 162,
   "id": "5781ec8e",
   "metadata": {},
   "outputs": [
    {
     "name": "stdout",
     "output_type": "stream",
     "text": [
      "[0.0045 0.003  0.     0.     0.0722]\n",
      "-150.7716\n"
     ]
    }
   ],
   "source": [
    "wf_model.fit(wf_X_train, y_train)\n",
    "# Print out the fitted coefficients\n",
    "np.set_printoptions(precision=4, suppress=True) # set precision for numpy arrays\n",
    "print(wf_model.coef_)\n",
    "print('%.4f' % wf_model.intercept_ ) "
   ]
  },
  {
   "cell_type": "code",
   "execution_count": 163,
   "id": "725398c5",
   "metadata": {},
   "outputs": [
    {
     "data": {
      "text/plain": [
       "Text(0, 0.5, 'Actual values of the fare')"
      ]
     },
     "execution_count": 163,
     "metadata": {},
     "output_type": "execute_result"
    },
    {
     "data": {
      "image/png": "[encoded data removed]",
      "text/plain": [
       "<Figure size 432x288 with 1 Axes>"
      ]
     },
     "metadata": {
      "needs_background": "light"
     },
     "output_type": "display_data"
    }
   ],
   "source": [
    "wf_y_pred = wf_model.predict(wf_X_valid)\n",
    "plt.scatter(wf_y_pred, y_valid)\n",
    "plt.title('Actual target values of the validation Vs Predicted value')\n",
    "plt.xlabel('Predicted values of the fare')\n",
    "plt.ylabel('Actual values of the fare')"
   ]
  },
  {
   "cell_type": "code",
   "execution_count": 164,
   "id": "8bce5a6d",
   "metadata": {},
   "outputs": [],
   "source": [
    "wf_error = y_valid - wf_y_pred"
   ]
  },
  {
   "cell_type": "code",
   "execution_count": 169,
   "id": "7436569d",
   "metadata": {},
   "outputs": [
    {
     "data": {
      "text/plain": [
       "<matplotlib.legend.Legend at 0x7f972a9f4b20>"
      ]
     },
     "execution_count": 169,
     "metadata": {},
     "output_type": "execute_result"
    },
    {
     "data": {
      "image/png": "[encoded data removed]",
      "text/plain": [
       "<Figure size 432x288 with 1 Axes>"
      ]
     },
     "metadata": {
      "needs_background": "light"
     },
     "output_type": "display_data"
    }
   ],
   "source": [
    "num_bin = 20\n",
    "plt.hist(wf_error, num_bin)\n",
    "plt.hist(error, num_bin, alpha = 0.8)\n",
    "plt.title('Error distribution')\n",
    "plt.xlabel('Error in the predicted value of the airfare')\n",
    "plt.ylabel('Number of routes')\n",
    "plt.legend(['Without unknown factors', 'With unknown factors'])"
   ]
  },
  {
   "attachments": {},
   "cell_type": "markdown",
   "id": "a96c03e0",
   "metadata": {},
   "source": [
    "###Briefly state your analytics plan to determine whether a model using only the factors that are available before flights begin to operate on the new route is good enough, or whether it is worthwhile re-building the model once flights begin on the new route\n",
    "\n",
    "I have run the regression with/without the unknown factors and created a error distribution histogram. According to the above histogram we can say that for model developed with considering unknown factor, majority of error is near zero. However, for model developed without unknown factors there are two peaks farther away from zero. With this we can say that it is better to wait for the data and then train the model."
   ]
  }
 ],
 "metadata": {
  "kernelspec": {
   "display_name": "Python 3",
   "language": "python",
   "name": "python3"
  },
  "language_info": {
   "codemirror_mode": {
    "name": "ipython",
    "version": 3
   },
   "file_extension": ".py",
   "mimetype": "text/x-python",
   "name": "python",
   "nbconvert_exporter": "python",
   "pygments_lexer": "ipython3",
   "version": "3.10.5"
  },
  "vscode": {
   "interpreter": {
    "hash": "7e1998ff7f8aa20ada591c520b972326324e5ea05489af9e422744c7c09f6dad"
   }
  }
 },
 "nbformat": 4,
 "nbformat_minor": 5
}
